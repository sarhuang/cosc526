{
 "cells": [
  {
   "cell_type": "markdown",
   "id": "5f09fcd7",
   "metadata": {},
   "source": [
    "# COSC 426 / 526 - Assignment 01\n",
    "\n",
    "### Discussed: January 24, 2025\n",
    "### Due:  Jan 31, 2025 before 8AM ET\n",
    "\n",
    "---\n",
    "This notebook contains essential functions for your assignment. You will need to enhance and write additional code to complete the tasks. Please submit your completed work to the designated GitHub repository.\n",
    "\n",
    "This assignment is crafted to assess your proficiency in Python programming. You are encouraged to solve the problems using your current knowledge and skills, refraining from searching for solutions online. Be aware that future assignments in this course may present more complexity than this initial task.\n",
    "\n",
    "## Implementation Requirements\n",
    "\n",
    "For your project, please adhere to the following straightforward requirements:\n",
    "\n",
    "**Use Python 3:** Ensure that all your code is written in Python 3. We will be executing your code using a Python 3 interpreter. Code written in Python 2 is likely to encounter issues and may not run correctly.\n",
    "\n",
    "**Code Format:** Your code should be presented in one of two formats:\n",
    "\n",
    "* As a single Python script, saved with a .py file extension.\n",
    "* As a Jupyter Notebook.\n",
    "\n",
    "These requirements are essential to ensure that your code is compatible and can be executed smoothly in our environment.\n",
    "\n",
    "## Dataset Information\n",
    "\n",
    "For this assignment, you will be working with a dataset available from [this Kaggle page](https://www.kaggle.com/yamqwe/omicron-covid19-variant-daily-cases?select=covid-variants.csv). Additionally, a copy of this dataset is located in the same directory as this Jupyter notebook.\n",
    "\n",
    "The dataset provides information on the processing of COVID-19 sequence data by different countries over a period of time. It is formatted as a CSV (Comma-Separated Values) file, containing the following six key columns:\n",
    "\n",
    "1. `location`: This column indicates the specific country to which the data pertains.\n",
    "2. `date`: This column shows the date on which the data was recorded.\n",
    "3. `variant`: This column identifies the specific COVID-19 variant related to the data entry.\n",
    "4. `num_sequences`: This column reflects the count of sequences that have been **processed** for the respective country, variant, and date.\n",
    "5. `num_sequences_total`: This column indicates the total count of sequences that are available for the specified country, variant, and date.\n",
    "6. `perc_sequences`: This column indicates the total count of sequences that are available for the specified country, variant, and date.\n",
    "\n",
    "Each row in the dataset corresponds to the record of sequences processed for a particular COVID-19 variant in a specific country on a given day."
   ]
  },
  {
   "cell_type": "code",
   "execution_count": 150,
   "id": "c0ba54e2",
   "metadata": {},
   "outputs": [],
   "source": [
    "## Import any package you may need here below (Suggestion: consider pandas)\n",
    "import pandas as pd"
   ]
  },
  {
   "cell_type": "code",
   "execution_count": 151,
   "id": "f30c8202",
   "metadata": {},
   "outputs": [
    {
     "data": {
      "text/html": [
       "<div>\n",
       "<style scoped>\n",
       "    .dataframe tbody tr th:only-of-type {\n",
       "        vertical-align: middle;\n",
       "    }\n",
       "\n",
       "    .dataframe tbody tr th {\n",
       "        vertical-align: top;\n",
       "    }\n",
       "\n",
       "    .dataframe thead th {\n",
       "        text-align: right;\n",
       "    }\n",
       "</style>\n",
       "<table border=\"1\" class=\"dataframe\">\n",
       "  <thead>\n",
       "    <tr style=\"text-align: right;\">\n",
       "      <th></th>\n",
       "      <th>location</th>\n",
       "      <th>date</th>\n",
       "      <th>variant</th>\n",
       "      <th>num_sequences</th>\n",
       "      <th>perc_sequences</th>\n",
       "      <th>num_sequences_total</th>\n",
       "    </tr>\n",
       "  </thead>\n",
       "  <tbody>\n",
       "    <tr>\n",
       "      <th>0</th>\n",
       "      <td>Angola</td>\n",
       "      <td>2020-07-06</td>\n",
       "      <td>Alpha</td>\n",
       "      <td>0</td>\n",
       "      <td>0.0</td>\n",
       "      <td>3</td>\n",
       "    </tr>\n",
       "    <tr>\n",
       "      <th>1</th>\n",
       "      <td>Angola</td>\n",
       "      <td>2020-07-06</td>\n",
       "      <td>B.1.1.277</td>\n",
       "      <td>0</td>\n",
       "      <td>0.0</td>\n",
       "      <td>3</td>\n",
       "    </tr>\n",
       "    <tr>\n",
       "      <th>2</th>\n",
       "      <td>Angola</td>\n",
       "      <td>2020-07-06</td>\n",
       "      <td>B.1.1.302</td>\n",
       "      <td>0</td>\n",
       "      <td>0.0</td>\n",
       "      <td>3</td>\n",
       "    </tr>\n",
       "    <tr>\n",
       "      <th>3</th>\n",
       "      <td>Angola</td>\n",
       "      <td>2020-07-06</td>\n",
       "      <td>B.1.1.519</td>\n",
       "      <td>0</td>\n",
       "      <td>0.0</td>\n",
       "      <td>3</td>\n",
       "    </tr>\n",
       "    <tr>\n",
       "      <th>4</th>\n",
       "      <td>Angola</td>\n",
       "      <td>2020-07-06</td>\n",
       "      <td>B.1.160</td>\n",
       "      <td>0</td>\n",
       "      <td>0.0</td>\n",
       "      <td>3</td>\n",
       "    </tr>\n",
       "    <tr>\n",
       "      <th>...</th>\n",
       "      <td>...</td>\n",
       "      <td>...</td>\n",
       "      <td>...</td>\n",
       "      <td>...</td>\n",
       "      <td>...</td>\n",
       "      <td>...</td>\n",
       "    </tr>\n",
       "    <tr>\n",
       "      <th>100411</th>\n",
       "      <td>Zimbabwe</td>\n",
       "      <td>2021-11-01</td>\n",
       "      <td>Omicron</td>\n",
       "      <td>0</td>\n",
       "      <td>0.0</td>\n",
       "      <td>6</td>\n",
       "    </tr>\n",
       "    <tr>\n",
       "      <th>100412</th>\n",
       "      <td>Zimbabwe</td>\n",
       "      <td>2021-11-01</td>\n",
       "      <td>S:677H.Robin1</td>\n",
       "      <td>0</td>\n",
       "      <td>0.0</td>\n",
       "      <td>6</td>\n",
       "    </tr>\n",
       "    <tr>\n",
       "      <th>100413</th>\n",
       "      <td>Zimbabwe</td>\n",
       "      <td>2021-11-01</td>\n",
       "      <td>S:677P.Pelican</td>\n",
       "      <td>0</td>\n",
       "      <td>0.0</td>\n",
       "      <td>6</td>\n",
       "    </tr>\n",
       "    <tr>\n",
       "      <th>100414</th>\n",
       "      <td>Zimbabwe</td>\n",
       "      <td>2021-11-01</td>\n",
       "      <td>others</td>\n",
       "      <td>0</td>\n",
       "      <td>0.0</td>\n",
       "      <td>6</td>\n",
       "    </tr>\n",
       "    <tr>\n",
       "      <th>100415</th>\n",
       "      <td>Zimbabwe</td>\n",
       "      <td>2021-11-01</td>\n",
       "      <td>non_who</td>\n",
       "      <td>0</td>\n",
       "      <td>0.0</td>\n",
       "      <td>6</td>\n",
       "    </tr>\n",
       "  </tbody>\n",
       "</table>\n",
       "<p>100416 rows × 6 columns</p>\n",
       "</div>"
      ],
      "text/plain": [
       "        location        date         variant  num_sequences  perc_sequences  \\\n",
       "0         Angola  2020-07-06           Alpha              0             0.0   \n",
       "1         Angola  2020-07-06       B.1.1.277              0             0.0   \n",
       "2         Angola  2020-07-06       B.1.1.302              0             0.0   \n",
       "3         Angola  2020-07-06       B.1.1.519              0             0.0   \n",
       "4         Angola  2020-07-06         B.1.160              0             0.0   \n",
       "...          ...         ...             ...            ...             ...   \n",
       "100411  Zimbabwe  2021-11-01         Omicron              0             0.0   \n",
       "100412  Zimbabwe  2021-11-01   S:677H.Robin1              0             0.0   \n",
       "100413  Zimbabwe  2021-11-01  S:677P.Pelican              0             0.0   \n",
       "100414  Zimbabwe  2021-11-01          others              0             0.0   \n",
       "100415  Zimbabwe  2021-11-01         non_who              0             0.0   \n",
       "\n",
       "        num_sequences_total  \n",
       "0                         3  \n",
       "1                         3  \n",
       "2                         3  \n",
       "3                         3  \n",
       "4                         3  \n",
       "...                     ...  \n",
       "100411                    6  \n",
       "100412                    6  \n",
       "100413                    6  \n",
       "100414                    6  \n",
       "100415                    6  \n",
       "\n",
       "[100416 rows x 6 columns]"
      ]
     },
     "metadata": {},
     "output_type": "display_data"
    }
   ],
   "source": [
    "## Add here anything else you may need (Suggestion: import your data) \n",
    "df = pd.read_csv('covid-variants.csv')\n",
    "display(df)"
   ]
  },
  {
   "cell_type": "markdown",
   "id": "760c5a8f",
   "metadata": {
    "tags": []
   },
   "source": [
    "## Problem 1. Identifying Less Common COVID-19 Variants\n",
    "\n",
    "In the United States, the three primary COVID-19 variants we have encountered are:\n",
    "1. Alpha\n",
    "2. Delta\n",
    "3. Omicron\n",
    "\n",
    "Besides these, the World Health Organization (WHO) has recognized several other variants of the virus.\n",
    "\n",
    "Your task is to identify these additional variants present in the dataset. To do this, you should:\n",
    "\n",
    "Examine the dataset, specifically focusing on the contents of the \"variants\" column.\n",
    "\n",
    "Identify and compile a list of variant names that are different from the main variants (Alpha, Delta, Omicron) recognized in the US.\n",
    "\n",
    "Ensure that you exclude two specific categories labeled as \"non_who\" and \"others\" in the \"variants\" column, as these are not individual variants but rather collective categories.\n",
    "\n",
    "Organize the names of these less common variants in an alphanumeric order.\n",
    "\n",
    "Store this organized list of variant names in a Python list.\n",
    "\n",
    "Assign this list to a variable named uncommon_variants.\n",
    "\n",
    "**Remember** this list should only include the names of the variants that are not as commonly known or discussed in the US context but are acknowledged by the WHO.\n"
   ]
  },
  {
   "cell_type": "code",
   "execution_count": 153,
   "id": "c4f869b7",
   "metadata": {},
   "outputs": [
    {
     "name": "stdout",
     "output_type": "stream",
     "text": [
      "['B.1.1.277', 'B.1.1.302', 'B.1.1.519', 'B.1.160', 'B.1.177', 'B.1.221', 'B.1.258', 'B.1.367', 'B.1.620', 'Beta', 'Epsilon', 'Eta', 'Gamma', 'Iota', 'Kappa', 'Lambda', 'Mu', 'S:677H.Robin1', 'S:677P.Pelican']\n"
     ]
    }
   ],
   "source": [
    "all_variants = df['variant'].unique()\n",
    "remove_variants = ['non_who', 'others', 'Alpha', 'Delta', 'Omicron']\n",
    "uncommon_variants = df[~df['variant'].isin(remove_variants)]['variant'].unique()\n",
    "uncommon_variants = list(uncommon_variants)\n",
    "print(uncommon_variants)"
   ]
  },
  {
   "cell_type": "markdown",
   "id": "cc0eeaf6-5dcf-4df7-b584-1e1075d749bf",
   "metadata": {},
   "source": [
    "**Solution:**\n",
    "\n",
    "['B.1.1.277', 'B.1.1.302', 'B.1.1.519', 'B.1.160', 'B.1.177', 'B.1.221', 'B.1.258', 'B.1.367', 'B.1.620', 'Beta', 'Epsilon', 'Eta', 'Gamma', 'Iota', 'Kappa', 'Lambda', 'Mu', 'S:677H.Robin1', 'S:677P.Pelican']"
   ]
  },
  {
   "cell_type": "markdown",
   "id": "5cbdeb65",
   "metadata": {
    "tags": []
   },
   "source": [
    "## Problem 2. Identifying the Most Processed COVID-19 Variant\n",
    "\n",
    "Your objective is to find out which COVID-19 variant has undergone the most processing, as indicated by the number of sequences processed.\n",
    "\n",
    "To complete this task, follow these steps:\n",
    "\n",
    "Examine the dataset to compare the number of processed sequences for each COVID-19 variant.\n",
    "\n",
    "Identify the variant that has the highest number of sequences processed.\n",
    "\n",
    "Store the name of this variant in a variable named variant_most_proc.\n",
    "\n",
    "The variable `variant_most_proc` should ultimately contain the name of the COVID-19 variant with the greatest number of processed sequences according to the dataset."
   ]
  },
  {
   "cell_type": "code",
   "execution_count": 118,
   "id": "e9efb902",
   "metadata": {},
   "outputs": [
    {
     "name": "stdout",
     "output_type": "stream",
     "text": [
      "Delta\n"
     ]
    }
   ],
   "source": [
    "filtered_df = df.groupby('variant')['num_sequences'].sum()\n",
    "variant_most_proc = filtered_df.idxmax()\n",
    "print(variant_most_proc)"
   ]
  },
  {
   "cell_type": "markdown",
   "id": "6f6cda2a-30f8-4b3c-bfbf-78c21d33ac1c",
   "metadata": {},
   "source": [
    "**Solution:**\n",
    "\n",
    "Delta"
   ]
  },
  {
   "cell_type": "markdown",
   "id": "663db8ac",
   "metadata": {},
   "source": [
    "## Problem 3. Identifying the Top Country in Processing Sequences Across All COVID-19 Variants\n",
    "\n",
    "Your task is to find out which country has been the most effective in processing sequences for all COVID-19 variants, including the general categories labeled as \"catch all.\"\n",
    "\n",
    "To achieve this:\n",
    "\n",
    "Analyze the dataset to evaluate the sequence processing performance of each country for all COVID-19 variants.\n",
    "\n",
    "Identify the country that has the highest efficiency or success rate in processing sequences across all these variants.\n",
    "\n",
    "Assign the name of this country to a variable named best_proc_country.\n",
    "\n",
    "The `best_proc_country` variable should ultimately hold the name of the country that stands out as the best in processing COVID-19 sequences for all variants, inclusive of the \"catch all\" categories."
   ]
  },
  {
   "cell_type": "code",
   "execution_count": 119,
   "id": "75c31b41",
   "metadata": {},
   "outputs": [
    {
     "name": "stdout",
     "output_type": "stream",
     "text": [
      "Cyprus\n"
     ]
    }
   ],
   "source": [
    "success_by_country = df.groupby('location')['perc_sequences'].mean()\n",
    "best_proc_country = success_by_country.idxmax()\n",
    "print(best_proc_country)"
   ]
  },
  {
   "cell_type": "markdown",
   "id": "3394f304-5e42-4b96-9969-603f2ffdb4e0",
   "metadata": {},
   "source": [
    "**Solution:**\n",
    "\n",
    "Cyprus"
   ]
  },
  {
   "cell_type": "markdown",
   "id": "11d1d3a0",
   "metadata": {},
   "source": [
    "## Problem 4a. Identifying the Leading Country in Processing Alpha, Delta, and Omicron Sequences\n",
    "\n",
    "Your objective in this task is to ascertain which country has demonstrated the highest proficiency in processing sequences specifically for the Alpha, Delta, and Omicron COVID-19 variants.\n",
    "\n",
    "Follow these steps:\n",
    "\n",
    "Review the dataset to assess how different countries have processed sequences for the Alpha, Delta, and Omicron variants.\n",
    "\n",
    "Identify which country has shown the best overall performance in processing sequences for these three specific variants.\n",
    "\n",
    "Record the name of this country in a variable named best_proc_country_ado.\n",
    "\n",
    "Ultimately, `best_proc_country_ado`should contain the name of the country that stands out for its efficiency in handling sequences of the Alpha, Delta, and Omicron variants."
   ]
  },
  {
   "cell_type": "code",
   "execution_count": 136,
   "id": "fcafdd2e",
   "metadata": {},
   "outputs": [
    {
     "name": "stdout",
     "output_type": "stream",
     "text": [
      "Vietnam\n"
     ]
    }
   ],
   "source": [
    "keep_variants = ['Alpha', 'Delta', 'Omicron']\n",
    "filtered_df = df[df['variant'].isin(keep_variants)]\n",
    "\n",
    "success_by_country = filtered_df.groupby('location')[['num_sequences', 'num_sequences_total']].sum()\n",
    "success_by_country['perc_sequences_calc'] = (success_by_country['num_sequences'] / success_by_country['num_sequences_total']) * 100\n",
    "best_proc_country_ado = success_by_country['perc_sequences_calc'].idxmax()\n",
    "print(best_proc_country_ado)"
   ]
  },
  {
   "cell_type": "markdown",
   "id": "50352af6-52fb-4ac7-b6e3-24125fa58015",
   "metadata": {},
   "source": [
    "**Solution:**\n",
    "\n",
    "Vietnam"
   ]
  },
  {
   "cell_type": "markdown",
   "id": "9ccb8782",
   "metadata": {
    "tags": []
   },
   "source": [
    "## Problem 4b. Assessing the U.S. Ranking in Processing Alpha, Delta, and Omicron Sequences\n",
    "\n",
    "In this task, you are required to find out the U.S.'s ranking in terms of its efficiency in processing sequences for the Alpha, Delta, and Omicron COVID-19 variants.\n",
    "\n",
    "To complete this task:\n",
    "\n",
    "Analyze the dataset to compare the U.S.'s performance in processing sequences for these three variants against other countries.\n",
    "\n",
    "Determine the U.S.'s position in this ranking, with the understanding that the top-performing country is ranked 1.\n",
    "\n",
    "Store the U.S.'s ranking as an integer in a variable named `us_ranking`.\n",
    "\n",
    "**Important Notes:**\n",
    "\n",
    "Keep in mind that while the highest-ranking country is numbered 1, Python indexing begins at 0.\n",
    "\n",
    "Remember, in Jupyter notebooks, variables from previously executed code cells remain accessible in subsequent cells. This means you can utilize data or results from problem 4a without needing to duplicate code.\n"
   ]
  },
  {
   "cell_type": "code",
   "execution_count": 149,
   "id": "038e81b5",
   "metadata": {},
   "outputs": [
    {
     "name": "stdout",
     "output_type": "stream",
     "text": [
      "57\n"
     ]
    }
   ],
   "source": [
    "success_by_country_sorted = success_by_country.sort_values('perc_sequences_calc', ascending=False)\n",
    "us_ranking = success_by_country_sorted.index.get_loc('United States') + 1\n",
    "print(us_ranking)"
   ]
  },
  {
   "cell_type": "markdown",
   "id": "35d84ccf-e84f-458f-82ee-66f80331e1b2",
   "metadata": {},
   "source": [
    "**Solution:**\n",
    "    \n",
    "57"
   ]
  },
  {
   "cell_type": "markdown",
   "id": "283e46d3",
   "metadata": {},
   "source": [
    "## Problem 5. Calculating Processed Omicron Sequences by Country for a Specific Date\n",
    "\n",
    "This task involves determining and sorting the total number of sequences processed for the Omicron variant by each country on December 27, 2021.\n",
    "\n",
    "To achieve this:\n",
    "\n",
    "Analyze the dataset to calculate the total number of processed sequences for the Omicron variant in each country specifically for the date December 27, 2021.\n",
    "\n",
    "Arrange the results in descending order, starting with the country that processed the highest number of sequences down to the smallest.\n",
    "\n",
    "Format the output as a list of tuples. Each tuple should contain two elements: the country's name and the corresponding number of processed sequences.\n",
    "\n",
    "Store this sorted list of tuples in a variable named total_omicron_2021.\n",
    "\n",
    "The `total_omicron_2021` variable will thus represent a structured list, providing a clear overview of each country's contribution to processing Omicron sequences on the specified date.\n"
   ]
  },
  {
   "cell_type": "code",
   "execution_count": 157,
   "id": "4b1a9e3b-e779-43ca-a1cd-1f7416e58cdd",
   "metadata": {},
   "outputs": [
    {
     "name": "stdout",
     "output_type": "stream",
     "text": [
      "[('United Kingdom', 52456), ('United States', 24681), ('Denmark', 3331), ('Germany', 1701), ('Israel', 1578), ('Australia', 1319), ('Switzerland', 514), ('France', 509), ('Italy', 486), ('Belgium', 464), ('Spain', 461), ('Sweden', 434), ('Chile', 260), ('Netherlands', 254), ('Singapore', 249), ('Mexico', 240), ('Turkey', 202), ('India', 174), ('Brazil', 147), ('Botswana', 142), ('Indonesia', 128), ('Japan', 118), ('Portugal', 118), ('Argentina', 80), ('New Zealand', 63), ('South Africa', 61), ('Lithuania', 50), ('Czechia', 49), ('Georgia', 46), ('Russia', 45), ('Colombia', 37), ('Sri Lanka', 37), ('Hong Kong', 35), ('Malta', 34), ('Poland', 28), ('Ecuador', 26), ('Canada', 25), ('Jordan', 22), ('Malawi', 21), ('Cambodia', 18), ('Norway', 17), ('Morocco', 15), ('Senegal', 15), ('Costa Rica', 14), ('Pakistan', 11), ('Nigeria', 10), ('Peru', 10), ('Brunei', 8), ('Slovakia', 8), ('Trinidad and Tobago', 8), ('Maldives', 7), ('Zambia', 7), ('Thailand', 6), ('Malaysia', 5), ('Bangladesh', 4), ('Romania', 3), ('Iran', 1), ('Oman', 1), ('Ukraine', 1), ('Vietnam', 1), ('Moldova', 0), ('Monaco', 0), ('Nepal', 0), ('South Korea', 0)]\n"
     ]
    }
   ],
   "source": [
    "filtered_df = df[df['date'] == '2021-12-27']\n",
    "filtered_df = filtered_df[filtered_df['variant'] == 'Omicron']\n",
    "filtered_df = filtered_df[['location', 'num_sequences']].sort_values(by=['num_sequences', 'location'], ascending=[False, True])\n",
    "total_omicron_2021 = list(filtered_df.itertuples(index=False, name=None))\n",
    "print(total_omicron_2021)"
   ]
  },
  {
   "cell_type": "markdown",
   "id": "49f95c2b-db3a-4ece-a4bc-e325e99a5cbe",
   "metadata": {},
   "source": [
    "**Solution:**\n",
    "\n",
    "[('United Kingdom', 52456), ('United States', 24681), ('Denmark', 3331), ('Germany', 1701), ('Israel', 1578), ('Australia', 1319), ('Switzerland', 514), ('France', 509), ('Italy', 486), ('Belgium', 464), ('Spain', 461), ('Sweden', 434), ('Chile', 260), ('Netherlands', 254), ('Singapore', 249), ('Mexico', 240), ('Turkey', 202), ('India', 174), ('Brazil', 147), ('Botswana', 142), ('Indonesia', 128), ('Japan', 118), ('Portugal', 118), ('Argentina', 80), ('New Zealand', 63), ('South Africa', 61), ('Lithuania', 50), ('Czechia', 49), ('Georgia', 46), ('Russia', 45), ('Colombia', 37), ('Sri Lanka', 37), ('Hong Kong', 35), ('Malta', 34), ('Poland', 28), ('Ecuador', 26), ('Canada', 25), ('Jordan', 22), ('Malawi', 21), ('Cambodia', 18), ('Norway', 17), ('Morocco', 15), ('Senegal', 15), ('Costa Rica', 14), ('Pakistan', 11), ('Nigeria', 10), ('Peru', 10), ('Brunei', 8), ('Slovakia', 8), ('Trinidad and Tobago', 8), ('Maldives', 7), ('Zambia', 7), ('Thailand', 6), ('Malaysia', 5), ('Bangladesh', 4), ('Romania', 3), ('Iran', 1), ('Oman', 1), ('Ukraine', 1), ('Vietnam', 1), ('Moldova', 0), ('Monaco', 0), ('Nepal', 0), ('South Korea', 0)]"
   ]
  },
  {
   "cell_type": "markdown",
   "id": "c2e3afa3",
   "metadata": {},
   "source": [
    "## Problem 6. Calculating U.S. Processing Percentages for Key COVID-19 Variants\n",
    "\n",
    "Your task is to find out the percentage of sequences that have been processed in the United States (U.S.) for three specific COVID-19 variants: Alpha, Delta, and Omicron.\n",
    "\n",
    "To complete this:\n",
    "\n",
    "Examine the dataset to determine the percentage of sequences processed for each of the Alpha, Delta, and Omicron variants in the U.S.\n",
    "\n",
    "Compile these percentages into a dictionary. In this dictionary:\n",
    "\n",
    "The keys should be the names of the variants (\"Alpha\", \"Delta\", and \"Omicron\").\n",
    "\n",
    "The values should be the corresponding percentages of sequences processed for each variant.\n",
    "\n",
    "Assign this dictionary to a variable named proc_seq_us.\n",
    "\n",
    "Ultimately, the proc_seq_us variable will hold a structured dictionary, providing a clear representation of the U.S.'s processing percentages for each of these significant COVID-19 variants.\n",
    "\n",
    "\n",
    "\n",
    "6. Find Percentage of Sequences Processed in the US\n",
    "\n",
    "Determine the percentage of processed sequences for the Alpha, Delta, and Omicron variants in the US.\n",
    "\n",
    "Store the result as a dictionary where keys are variant names and values are percentages.\n",
    "\n",
    "Save the result in a variable called `proc_seq_us`."
   ]
  },
  {
   "cell_type": "code",
   "execution_count": 129,
   "id": "53126a9c",
   "metadata": {},
   "outputs": [
    {
     "name": "stdout",
     "output_type": "stream",
     "text": [
      "{'Alpha': 11.520951617373877, 'Delta': 63.76796208057254, 'Omicron': 1.370817855027461}\n"
     ]
    }
   ],
   "source": [
    "keep_variants = ['Alpha', 'Delta', 'Omicron']\n",
    "filtered_df = df[df['variant'].isin(keep_variants)]\n",
    "filtered_df = filtered_df[filtered_df['location'] == 'United States']\n",
    "\n",
    "variant_totals = filtered_df.groupby('variant')[['num_sequences', 'num_sequences_total']].sum()\n",
    "variant_totals['perc_sequences_calc'] = (variant_totals['num_sequences'] / variant_totals['num_sequences_total']) * 100\n",
    "proc_seq_us = variant_totals['perc_sequences_calc'].to_dict()\n",
    "print(proc_seq_us)"
   ]
  },
  {
   "cell_type": "markdown",
   "id": "29ab4161-4ff8-4474-9470-ab91ce7a6f63",
   "metadata": {},
   "source": [
    "**Solution:**\n",
    "\n",
    "{'Alpha': 11.520951617373877, 'Delta': 63.76796208057254, 'Omicron': 1.370817855027461}\n"
   ]
  },
  {
   "cell_type": "markdown",
   "id": "0891e8c8",
   "metadata": {},
   "source": [
    "## Problem 7. Write the comprehensive README files\n",
    "\n",
    "**Note:** These directions are for a README file for your assignments. An extensive README file should be used for your project. \n",
    "\n",
    "***Write the comprehensive README files for Assginemnt 1***\n",
    "\n",
    "A comprehensive README file on GitHub is the primary information source for anyone exploring your repository. It is essential for clearly conveying your assignment's purpose, setup, and usage.\n",
    "\n",
    "Key elements of a comprehensive README for an assignment include:\n",
    "\n",
    "Assignment title: This should clearly state the name of your project.\n",
    "\n",
    "Assignment description: Provide a concise overview of what the project entails. This section should explain the project's usefulness and the problems it addresses.\n",
    "\n",
    "Installation instructions: Offer detailed steps for setting up the project. This includes any prerequisites, dependencies, and a step-by-step guide to operationalizing the project.\n",
    "\n",
    "Use: Give clear instructions on how to use the project. Enhance this section with practical examples, including code snippets, screenshots, or videos.\n",
    "\n",
    "Contact information: Detail how to contact you. This could be through email.\n",
    "\n",
    "Acknowledgments: Credit any individuals, organizations, or other entities contributing significantly to the assignment.\n",
    "\n",
    "**Add the README file to the GitHub repository with the solution of Problems 1-6.**"
   ]
  },
  {
   "cell_type": "markdown",
   "id": "bc57d9f1-067b-4ade-8823-006eae5e8cd2",
   "metadata": {},
   "source": [
    "# Live Chat: The History of Big Data\n",
    "\n",
    "In her [keynote speech](https://youtu.be/CNoi-XqwJnA) at Supercomputing 2013, Intel's Genevieve Bell illustrates that humanity has been managing big data for thousands of years. She emphasizes that adopting the appropriate perspective is crucial for solving many contemporary challenges related to big data. Watch the video here: Genevieve Bell Keynote - Supercomputing 2013.\n",
    "\n",
    "Provide a summary of the video in no more than 150 words. Additionally, list three key concepts or insights that you gained from watching this video.\n",
    "\n",
    "**Important Note:** Your responses to this question is as critical as your codes. Brief answers or responses limited to just a few words will be considered inadequate and will negatively impact the overall grading of your assignment.\n"
   ]
  },
  {
   "cell_type": "markdown",
   "id": "a38d6ca8-d398-47f9-9366-b84f735e099c",
   "metadata": {},
   "source": [
    "Write here your answer"
   ]
  },
  {
   "cell_type": "markdown",
   "id": "3f495ba9",
   "metadata": {},
   "source": [
    "Summary:\n",
    "Genevieve extensively describes how Morgan the Conqueror surveyed his country and how that data affected English life for hundreds of years. This big data can be broken down into surveys (data), the Winchester Roll to organize the data (framework), and how it was used to judge citizens (extract value). She states that today's big data is broken into facts, visualization/analytics, and algorithms. Facts and raw data are complicated to understand due to people's nature to lie. Visualizations can clear up facts, and analytics can decide what data is relevant. Algorithms are only as good as the facts we feed them because they ultimately make the answers we want them to make. While big data seems to be big data = data + visualization/analytics + algorithms, humans are also in the equation. Big data starts and ends with humans, not technology. The only things stopping us are intellect and imagination.\n",
    "\n",
    "Three key concepts/insights gained from video:\n",
    "- Big data is just a combination of data, visualization/analytics, algorithms, and humans.\n",
    "- Visualization makes facts easier to see whereas analytics gives those facts meaning.\n",
    "- The Domesday Book preserved centuries-old data and was still used to shape English life in land ownership, tax base, etc. It begs the question of if and how modern data could be stored to last 1000 years like the Domesday Book."
   ]
  }
 ],
 "metadata": {
  "kernelspec": {
   "display_name": "Python 3",
   "language": "python",
   "name": "python3"
  },
  "language_info": {
   "codemirror_mode": {
    "name": "ipython",
    "version": 3
   },
   "file_extension": ".py",
   "mimetype": "text/x-python",
   "name": "python",
   "nbconvert_exporter": "python",
   "pygments_lexer": "ipython3",
   "version": "3.11.0"
  }
 },
 "nbformat": 4,
 "nbformat_minor": 5
}
