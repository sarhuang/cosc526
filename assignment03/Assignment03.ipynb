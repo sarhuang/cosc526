{
 "cells": [
  {
   "cell_type": "markdown",
   "metadata": {},
   "source": [
    "# COSC 426 / 526 - Assignment in Lecture 03\n",
    "### Discussed: February 7, 2025\n",
    "### Due: February 14, 2025\n",
    "---\n",
    "\n",
    "This notebook provides essential functions to help you complete your assignment. You should work within this notebook, modifying existing code and creating new code to devise a solution.  Each student must upload their own work (i.e., a notebook file and a well-executed README file) to GitHub.\n",
    "\n",
    "**While solutions might be available online, I encourage you to embrace the challenge and try to develop your own solutions first. Avoid searching for answers online until you've completed the lecture. Use this opportunity to exercise your creativity and problem-solving skills.**\n",
    "\n",
    "\n",
    "### Key points to remember:\n",
    "\n",
    "In the notebook, running a cell does not automatically re-execute the preceding cells. If you alter earlier cells, you must manually rerun them to incorporate the changes. To ensure that all cells are current and to prevent errors, utilize the 'Run All' option located in the notebook menu under `Cell -> Run All`.\n",
    "\n",
    "When working on Problems 1-4, it is advisable to avoid complex optimizations in your initial code. Instead, concentrate on creating a basic, functional script that is straightforward and easy to debug. Begin with a simple solution that works correctly, even if it means using less extensive input than required for the final problem. After achieving a working script, commit it to your GitHub repository. Subsequently, shift your focus to devising an optimized solution. This advanced solution may be quite different from your initial attempt, often involving a distinct mathematical approach for improved efficiency.\n",
    "\n",
    "Regarding Problem 3, avoid getting too involved with the complexity of data structures. While a basic solution might use certain data structures, the more advanced solution probably does not rely heavily on complex or novel data structures. Solving this problem efficiently involves two key insights, one of which is the effective utilization of the solve_quad() function."
   ]
  },
  {
   "cell_type": "markdown",
   "metadata": {},
   "source": [
    "---\n",
    "## Problem 1:\n",
    "(From [ProjectEuler Problem 1](https://projecteuler.net/problem=1).) If we list the natural numbers below 10 that are multiples of 3 or 5, we get: 3, 5, 6, and 9. The sum of these multiples is 23. Write a function that finds the sum of the multiples of $p$ or $q$ below $N$. \n",
    "\n",
    "#### Assumptions and constraints:\n",
    "\n",
    "Assume that $1 \\leq p < q < N$ and that each of these values are integers. Your code should be able to (a) handle values of $N$ up to at least 100,000,000 and (b) terminate in less than 1 second.\n",
    "\n",
    "#### Things to consider:\n",
    "\n",
    "- There are two general approaches to this problem, the naïve (slower) approach and a more mathematical (faster) approach involving the [inclusion-exclusion principle](https://en.wikipedia.org/wiki/Inclusion%E2%80%93exclusion_principle). To meet the performance constraints, you will have to implement the fast approach.\n",
    "- There are different approaching to measure execution times (wall-clock times). The approach below is one of them. Use what you prefer, as long as you measure wall clock time."
   ]
  },
  {
   "cell_type": "markdown",
   "metadata": {},
   "source": [
    "#### Complexity Analysis\n",
    "When working on the assignment, please make sure to include the complexity analysis under each problem statement. Please explain how your solution improves upon the naive approach.\n",
    "\n",
    "The sum_up function is O(1) because it's basic arithmetic operations. The time complexity of calculating the greatest common divisor in the lcm function is O(log(min(a, b))). The sumOfMultiples function is O(log(min(p, q))) since it's the sum of the time complexities of sum_up and lcm. Therefore, the faster implementation has a time complexity of O(log(min(p, q))).\n",
    "\n",
    "The naive approach has a time complexity of O(n) because it iterates over all numbers from 0 to n-1. My solution has a faster time complexity than the naive appraoch which explains the faster execution time."
   ]
  },
  {
   "cell_type": "markdown",
   "metadata": {},
   "source": [
    "#### Naive Solution:"
   ]
  },
  {
   "cell_type": "code",
   "execution_count": 3,
   "metadata": {},
   "outputs": [
    {
     "name": "stdout",
     "output_type": "stream",
     "text": [
      "23\n",
      "Duration: 0.0 seconds\n",
      "23331668\n",
      "Duration: 0.0 seconds\n",
      "2333333316666668\n",
      "Duration: 7.350929260253906 seconds\n"
     ]
    }
   ],
   "source": [
    "import time\n",
    "\n",
    "# Define the function to take three arguments.\n",
    "def sumOfMultiples(p, q, n):\n",
    "    sum_of_multiples = 0\n",
    "    for i in range(n):\n",
    "        if i % p == 0 or i % q == 0:\n",
    "            sum_of_multiples += i\n",
    "    \n",
    "    return sum_of_multiples\n",
    "\n",
    "# Print the output of your function for p=3, q=5, n=10.\n",
    "start_time = time.time()\n",
    "print(sumOfMultiples(3, 5, 10))\n",
    "print(\"Duration: %s seconds\" % (time.time() - start_time))\n",
    "\n",
    "# Print the output of your function for p=3, q=5, n=10000.\n",
    "start_time = time.time()\n",
    "print(sumOfMultiples(3, 5, 10000))\n",
    "print(\"Duration: %s seconds\" % (time.time() - start_time))\n",
    "\n",
    "# Print the output of your function for p=3, q=5, n=100000000.\n",
    "start_time = time.time()\n",
    "print(sumOfMultiples(3, 5, 100000000))\n",
    "print(\"Duration: %s seconds\" % (time.time() - start_time))"
   ]
  },
  {
   "cell_type": "markdown",
   "metadata": {},
   "source": [
    "#### Mathetmatical solution:"
   ]
  },
  {
   "cell_type": "code",
   "execution_count": 8,
   "metadata": {},
   "outputs": [
    {
     "name": "stdout",
     "output_type": "stream",
     "text": [
      "23\n",
      "Duration: 0.0 seconds\n",
      "23333666\n",
      "Duration: 0.0004968643188476562 seconds\n",
      "2333333336666666\n",
      "Duration: 0.0 seconds\n"
     ]
    }
   ],
   "source": [
    "import time\n",
    "import math\n",
    "\n",
    "# There is a closed-form formula for the sum of all multiples of $k$ less than $n$.\n",
    "# By defining this function first, we don't have to iterate through a long list.\n",
    "'''\n",
    "Formula: k*(p*(p+1))/2 where p is the largest integer such that k*p < n\n",
    "Largest integer p such that k*p < n -> p = (n-1)/k\n",
    "Sum of all multiples of k < n = k * (1 + 2 + 3 + ... + p)\n",
    "Sum of first p numbers = p * (p+1)/2\n",
    "'''\n",
    "def sum_up(k, n):\n",
    "    p = (n - 1) / k \n",
    "    return int(k * (p * (p + 1) / 2))\n",
    "\n",
    "\n",
    "# To use the above for multiple values, p and q,\n",
    "# we will need the least common multiple of p and q.\n",
    "# If p and q are relatively prime, such as p=3 and q=5,\n",
    "# then lcm(p,q) = p*q, but we will write the function for general use.\n",
    "#Source: https://www.geeksforgeeks.org/python-program-to-find-lcm-of-two-numbers/\n",
    "def lcm(a, b):\n",
    "    return (a * b) // math.gcd(a, b)\n",
    "\n",
    "\n",
    "# Define the function to take three arguments.\n",
    "    # Now we simply apply the inclusion-exclusion principle.\n",
    "def sumOfMultiples(p, q, n):\n",
    "    sum_p = sum_up(p, n)\n",
    "    sum_q = sum_up(q, n)\n",
    "    sum_lcm = sum_up(lcm(p, q), n)\n",
    "    return sum_p + sum_q - sum_lcm\n",
    "\n",
    "\n",
    "# Print the output of your function for p=3, q=5, n=10.\n",
    "start_time = time.time()\n",
    "print(sumOfMultiples(3, 5, 10))\n",
    "print(\"Duration: %s seconds\" % (time.time() - start_time))\n",
    "\n",
    "# Print the output of your function for p=3, q=5, n=10000.\n",
    "start_time = time.time()\n",
    "print(sumOfMultiples(3, 5, 10000))\n",
    "print(\"Duration: %s seconds\" % (time.time() - start_time))\n",
    "\n",
    "# Print the output of your function for p=3, q=5, n=100000000.\n",
    "start_time = time.time()\n",
    "print(sumOfMultiples(3, 5, 100000000))\n",
    "print(\"Duration: %s seconds\" % (time.time() - start_time))"
   ]
  },
  {
   "cell_type": "markdown",
   "metadata": {},
   "source": [
    "**Expected Output:** Please note that the execution times must be less than 1 second but the measured values will change from run to run.\n",
    "\n",
    "23<br>\n",
    "Duration: 0.0012371540069580078 seconds<br>\n",
    "23331668<br>\n",
    "Duration: 0.00026607513427734375 seconds<br>\n",
    "2333333316666668<br>\n",
    "Duration: 0.00013208389282226562 seconds<br>"
   ]
  },
  {
   "cell_type": "markdown",
   "metadata": {},
   "source": [
    "---\n",
    "## Problem 2:\n",
    "(From [ProjectEuler Problem 22](https://projecteuler.net/problem=22).)\n",
    "The file p022_names.txt contains one line with over 5000 comma-separated names, each in all-capital letters and enclosed in quotes. Import the names and sort them into alphabetical order. Then working out the alphabetical value for each name, multiply this value by its alphabetical position in the list to obtain a name score.\n",
    "\n",
    "For example, when the list is sorted into alphabetical order, COLIN, which is worth 3 + 15 + 12 + 9 + 14 = 53, is the 938th name in the list. So, COLIN would obtain a score of 938 \\* 53 = 49714.\n",
    "\n",
    "What is the total of the scores for all the names in the file?"
   ]
  },
  {
   "cell_type": "code",
   "execution_count": 3,
   "metadata": {},
   "outputs": [
    {
     "name": "stdout",
     "output_type": "stream",
     "text": [
      "871683246\n"
     ]
    }
   ],
   "source": [
    "# Rather than manually stripping and slicing the data as we did in the previous assigment, \n",
    "# let's use the csv module.\n",
    "import csv\n",
    "\n",
    "with open('p022_names.txt') as namefile:\n",
    "    # Complete the line below by specifying the appropriate arguments. \n",
    "    # HINT: ref [1]\n",
    "    name_reader = csv.reader(namefile)\n",
    "    names = next(name_reader)\n",
    "\n",
    "# Sort the list of names.\n",
    "# HINT: ref [2]\n",
    "names.sort()\n",
    "\n",
    "# Compute the alphabetical value for each name, with 'A' -> 1, 'B' -> 2, ..., 'Z' -> 26.\n",
    "# HINT: ref [3]\n",
    "def alphabetical_value(name):\n",
    "    return sum(ord(char) - ord('A') + 1 for char in name)\n",
    "\n",
    "# Multiply each name value by name's position in the ordered list, where the first name is in position 1.\n",
    "# HINT: ref [4]\n",
    "score_sum = 0\n",
    "for i, name in enumerate(names, 1):  # i is the 1-based index of the name\n",
    "    name_value = alphabetical_value(name)\n",
    "    score_sum += name_value * i\n",
    "\n",
    "# Print the sum of all the name scores.\n",
    "print(score_sum)"
   ]
  },
  {
   "cell_type": "markdown",
   "metadata": {},
   "source": [
    "**References:**\n",
    "- [1: csv.reader](https://docs.python.org/3.6/library/csv.html#csv.reader)\n",
    "- [2: sort](https://docs.python.org/3.6/library/stdtypes.html#list.sort)<br>\n",
    "Note: we can use the function list.sort() without any added arguments, but the sort function has additional capabilities worth exploring. See [HowTo/Sorting](https://wiki.python.org/moin/HowTo/Sorting) for more details.\n",
    "- [3: ord](https://docs.python.org/3.6/library/functions.html#ord)\n",
    "- [4: enumerate](https://docs.python.org/3/library/functions.html#enumerate)"
   ]
  },
  {
   "cell_type": "markdown",
   "metadata": {},
   "source": [
    "**Expected Output:**\n",
    "\n",
    "871683246"
   ]
  },
  {
   "cell_type": "markdown",
   "metadata": {},
   "source": [
    "---\n",
    "## Problem 3:\n",
    "(From [ProjectEuler Problem 45](https://projecteuler.net/problem=45).)\n",
    "Triangular, Pentagonal, and Hexagonal numbers are generated by the following formulae:\n",
    "\n",
    "| Polygonal  | *formula for nth term*    |*sequence of terms*    |\n",
    "| ---------- | ------------------------- | ----------------------|\n",
    "| Triangular | $T_n = \\frac{n(n+1)}{2}$  | 1, 3, 6, 10, 15, ...  |\n",
    "| Pentagonal | $P_n = \\frac{n(3n-1)}{2}$ | 1, 5, 12, 22, 35, ... |\n",
    "| Hexagonal  | $H_n = n(2n-1)$            | 1, 6, 15, 28, 45, ... |\n",
    "   \n",
    "The number 1 is triangular, pentagonal, and hexagonal (TPH).  Less obviously, $40755=T_{285}=P_{165}=H_{143}$ is also TPH. In fact, 40755 is the smallest TPH number bigger than 1. \n",
    "\n",
    "Write a function to find the smallest TPH number bigger than $n$. Use your function to find the smallest TPH bigger than 40755.\n",
    "\n",
    "#### Things to consider:\n",
    "\n",
    "- Your choice of data structure can have a significant impact on runtime. Think about which operations you are doing the most and choose a data structure which minimizes the average time for this particular operation. Python has many built-in data structures; the most common data structures are lists, dictionaries, and sets, but Python also has heaps and queues."
   ]
  },
  {
   "cell_type": "code",
   "execution_count": 14,
   "metadata": {
    "scrolled": false
   },
   "outputs": [
    {
     "name": "stdout",
     "output_type": "stream",
     "text": [
      "40755\n",
      "40755\n",
      "1533776805\n"
     ]
    }
   ],
   "source": [
    "# The function numpy.argmin may come in handy (ref [1]), but is not necessary.\n",
    "# from numpy import argmin\n",
    "\n",
    "# You will probably want to define functions that compute the n-th polygonal number\n",
    "# for various polygons. \n",
    "def getTri(x):\n",
    "    return x * (x + 1) // 2\n",
    "def getPent(x):\n",
    "    return (x * (3*x - 1)) // 2\n",
    "def getHex(x):\n",
    "    return x * (2*x - 1)\n",
    "\n",
    "# (The following is necessary for an efficient solution, but not for a brute-force solution.)\n",
    "# The quadratic formula is useful for computing a least polygonal number greater than n.\n",
    "# For example, to find the least Hexagonal number greater than 30, \n",
    "# solve the equation 30 = x(2x-1), which in general form is 0 = 2x^2 - x - 30. If we write the function below \n",
    "# to compute the larger of the two solutions to 0=ax^2 + bx + c, then solve_quad(2, -1, -30) \n",
    "# will return 4.1310435... so the next Hexagonal number is getHex(5) = 45.\n",
    "# HINT: ref [2]\n",
    "def solve_quad(a, b, c):\n",
    "    d = b**2 - 4*a*c\n",
    "    return (-1*b + d**0.5) / (2*a)\n",
    "\n",
    "# Now write a function that returns the least TPH number greater than n. \n",
    "def nextTPH(n):\n",
    "    tri_x = int(solve_quad(1, 1, -2 * n))  \n",
    "    pent_x = int(solve_quad(3, -1, -2 * n) / 2)\n",
    "    hex_x = int(solve_quad(2, -1, -n) / 2)  \n",
    "    \n",
    "    #Increment for each until the corresponding polygonal number exceeds n\n",
    "    while True:\n",
    "        tri_num = getTri(tri_x)\n",
    "        pent_num = getPent(pent_x)\n",
    "        hex_num = getHex(hex_x)\n",
    "        \n",
    "        if tri_num == pent_num == hex_num and tri_num > n:\n",
    "            return tri_num\n",
    "        \n",
    "        #Increment corresponding to the smallest polygonal number\n",
    "        if tri_num <= pent_num and tri_num <= hex_num:\n",
    "            tri_x += 1\n",
    "        elif pent_num <= tri_num and pent_num <= hex_num:\n",
    "            pent_x += 1\n",
    "        else:\n",
    "            hex_x += 1\n",
    "\n",
    "\n",
    "# Print the output of your function for n=1 and again for n=40754.\n",
    "print(nextTPH(1))\n",
    "print(nextTPH(40754))\n",
    "\n",
    "# Print the output of your function for n=40755.\n",
    "print(nextTPH(40755))"
   ]
  },
  {
   "cell_type": "markdown",
   "metadata": {},
   "source": [
    "**References:**\n",
    "- [1: argmin](https://docs.scipy.org/doc/numpy-1.13.0/reference/generated/numpy.argmin.html)\n",
    "- [2: Wikipedia: quadratic formula](https://en.wikipedia.org/wiki/Quadratic_formula)"
   ]
  },
  {
   "cell_type": "markdown",
   "metadata": {},
   "source": [
    "**Expected Output:**\n",
    "\n",
    "40755<br>\n",
    "40755<br>\n",
    "1533776805"
   ]
  },
  {
   "cell_type": "markdown",
   "metadata": {},
   "source": [
    "## Problem 4:\n",
    "\n",
    "(From [ProjectEuler Problem 87](https://projecteuler.net/problem=87).)\n",
    "The smallest number expressible as the sum of a prime square, a prime cube, and a prime fourth power is $28 = 2^2 + 2^3 + 2^4$. In fact, there are exactly four numbers below $50$ that can be expressed in such a way:\n",
    "\n",
    "$ 28 = 2^2 +2^3 +2^4 $<br>\n",
    "$ 33 = 3^2 +2^3 +2^4 $<br>\n",
    "$ 49 = 5^2 +2^3 +2^4 $<br>\n",
    "$ 47 = 2^2 +3^3 +2^4 $<br>\n",
    "\n",
    "Write code to determine the number of positive integers smaller than $N$ that can be written as the sum of a prime square, a prime cube, and a prime fourth power. Your code must accept a single command line parameter (this time your jupyter notebook accepts a user input), $N$, and print a single integer. For example, given the input equal to 50, the output is 4.\n",
    "\n",
    "#### Assumptions and constraints:\n",
    "\n",
    "For testing, you may assume that $N$ is a positive integer and that $N \\leq 50,000,000$. You should be able to compute the answer when $N = 50,000,000$ and terminate in less than 1 minutes. \n",
    "\n",
    "#### Things to consider:\n",
    "\n",
    "- If you are having a hard time getting started, then break down the problem into smaller manageable pieces. Almost certainly you’ll need to have a list of primes handy. Can you generate a list of primes? How big do your prime numbers need to be?"
   ]
  },
  {
   "cell_type": "code",
   "execution_count": 22,
   "metadata": {},
   "outputs": [
    {
     "name": "stdout",
     "output_type": "stream",
     "text": [
      "2\n",
      "Duration: 0.0 seconds\n"
     ]
    }
   ],
   "source": [
    "import math\n",
    "import time\n",
    "\n",
    "#Sieve of Eratosthenes algorithm\n",
    "#Based on https://www.geeksforgeeks.org/sieve-of-eratosthenes/\n",
    "def sieve_of_eratosthenes(end):\n",
    "    sieve = [True] * end\n",
    "    sieve[0] = False\n",
    "    sieve[1] = False\n",
    "    for i in range(2, end):\n",
    "        if sieve[i]:\n",
    "            for multiple in range(i * 2, end, i):\n",
    "                sieve[multiple] = False\n",
    "    return [number for number, state in enumerate(sieve) if state]\n",
    "\n",
    "\n",
    "\n",
    "def countnumbers(n):\n",
    "    primes = sieve_of_eratosthenes(n)\n",
    "    #Generate prime squares, cubes, fourth powers\n",
    "    prime_squares = [math.pow(p, 2) for p in primes if math.pow(p, 2) < n]\n",
    "    prime_cubes = [math.pow(p, 3) for p in primes if math.pow(p, 3) < n]\n",
    "    prime_fourth_powers = [math.pow(p, 4) for p in primes if math.pow(p, 4) < n]\n",
    "    \n",
    "    #Calculate sums of prime squares, cubes, and fourth powers < n\n",
    "    prime_sums = []\n",
    "    \n",
    "    for square in prime_squares:\n",
    "        for cube in prime_cubes:\n",
    "            for fourth in prime_fourth_powers:\n",
    "                prime_sum = square + cube + fourth\n",
    "                if prime_sum < n:\n",
    "                    prime_sums.append(prime_sum)\n",
    "    \n",
    "    return len(prime_sums)\n",
    "\n",
    "\n",
    "\n",
    "# Enter the input number from console\n",
    "n = int(input(\"Enter number :\"))\n",
    "\n",
    "# Print the output of your function\n",
    "start_time = time.time()\n",
    "print(countnumbers(n))\n",
    "print(\"Duration: %s seconds\" % (time.time() - start_time))"
   ]
  },
  {
   "cell_type": "markdown",
   "metadata": {},
   "source": [
    "Solutions:\n",
    "- Input: 50, Output: 4\n",
    "- Input: 50000000, should run in less than 1 minute"
   ]
  },
  {
   "cell_type": "markdown",
   "metadata": {},
   "source": [
    "## Problem 5. Write the comprehensive README files for the assignment\n",
    "\n",
    "**Note:** These directions are for a README file for your assignments. An more extensive README file should be used for your project. \n",
    "\n",
    "***Write the comprehensive README files for this assignment***\n",
    "\n",
    "A comprehensive README file on GitHub is the primary information source for anyone exploring your repository. It is essential for clearly conveying your assignment's purpose, setup, and usage.\n",
    "\n",
    "Key elements of a comprehensive README for an assignment include:\n",
    "\n",
    "Assignment title: This should clearly state the name of your project.\n",
    "\n",
    "Assignment description: Provide a concise overview of what the project entails. This section should explain the project's usefulness and the problems it addresses.\n",
    "\n",
    "Installation instructions: Offer detailed steps for setting up the project. This includes any prerequisites, dependencies, and a step-by-step guide to operationalizing the project.\n",
    "\n",
    "Use: Give clear instructions on how to use the project. Enhance this section with practical examples, including code snippets, screenshots, or videos.\n",
    "\n",
    "Contact information: Detail how to contact you. This could be through email.\n",
    "\n",
    "Acknowledgments: Credit any individuals, organizations, or other entities contributing significantly to the assignment.\n",
    "\n",
    "**Add the README file to the GitHub repository with the solution of this assigment.**"
   ]
  },
  {
   "cell_type": "markdown",
   "metadata": {},
   "source": [
    "# Live Chat: The simplest math problem no one can solve!"
   ]
  },
  {
   "cell_type": "markdown",
   "metadata": {},
   "source": [
    "The Collatz Conjecture is the simplest math problem no one can solve — it is easy enough for almost anyone to understand but notoriously difficult to solve. So what is the Collatz Conjecture, and what makes it so difficult? Veritasium investigates.\n",
    "\n",
    "https://ed.ted.com/best_of_web/U1LBfyZ5\n",
    "\n",
    "Your task:\n",
    "\n",
    "List three key concepts you learned by watching the video"
   ]
  },
  {
   "cell_type": "markdown",
   "metadata": {},
   "source": [
    "- The Collatz Conjecture is where you apply the rules 3n+1 if n is odd and n/2 if n is even and eventually very positive integer will end up in a 4-2-1 loop. \n",
    "- The numbers you get after applying the odd and even rules are called hailstone numbers because they go up and down like hailstones in a storm. \n",
    "- 3n+1 is more likely to shrink than grow. On average to get from one odd number to another, you multiply by 3/4 which is less than 1."
   ]
  },
  {
   "cell_type": "markdown",
   "metadata": {},
   "source": [
    "### Reflect on your experience with the lecture and assignment:\n",
    "\n",
    "Q1: Resource usage: What external resources (websites, books, etc.) did you consult while working on the problems? Please list them.\n",
    "\n",
    "Q2: Debugging and error resolution: How often did you encounter and resolve errors or bugs during the assignment? Could you describe each occurrence in detail?\n",
    "\n",
    "Q3: Gained knowledge: What lessons or insights you learned from solving these problems? How do you apply these insights in future coding projects or problem-solving scenarios?\n",
    "\n",
    "Q4: Collaborative experiences: If you consulted with others, explain how this collaboration influenced your problem-solving approach. If you consulted with others, can you give an example of how you helped a peer or how a peer's advice helped you?\n",
    "\n",
    "**Important Note:** Your reflections and experiences shared in response to these questions are as crucial as the solutions for the coding problems. Responses that are too brief or limited to a few words will not suffice and may  affect the pass grade for your assignment."
   ]
  },
  {
   "cell_type": "markdown",
   "metadata": {},
   "source": [
    "1. The main resource I used was GeeksforGeeks's explanation on the Sieve of Eratosthenes (https://www.geeksforgeeks.org/sieve-of-eratosthenes/) for problem 4. I also looked at their article about time complexity (https://www.geeksforgeeks.org/understanding-time-complexity-simple-examples/) for a reminder and how to efficiently write LCM (https://www.geeksforgeeks.org/python-program-to-find-lcm-of-two-numbers/) for problem 1.\n",
    "\n",
    "2. I encountered bugs in almost every problem, but they were mainly mathematical errors. In problem 1, it took some time to figure out the closed-form formula and make sure I'm performing the right arithmetic operations. Problem 3 also was try and error figuring out the mathetmatical operations. Same with problem 4 and making sure I implemented Sieve of Eratosthenes algorithm correctly. \n",
    "\n",
    "3.  When given a concept I am not aware of, I usually look at many different sources to make sure the information is uniform. It definitely took some time to try to understand the math first before coding. sThese problems were also a good reminder that it's easier to code by breaking the problem down into parts. Make sure the not fully optimized code works first and then worry about improving it.\n",
    "\n",
    "4.  I did not consult with others, but I would imagine that I would be asking others on what resources they used. The math and formulas are the hardest part, so I would be consulting them to make sure we're implementing them correctly. It's always nice to see slightly different implementations and problem-solving that lead to the same answer."
   ]
  }
 ],
 "metadata": {
  "kernelspec": {
   "display_name": "Python 3",
   "language": "python",
   "name": "python3"
  },
  "language_info": {
   "codemirror_mode": {
    "name": "ipython",
    "version": 3
   },
   "file_extension": ".py",
   "mimetype": "text/x-python",
   "name": "python",
   "nbconvert_exporter": "python",
   "pygments_lexer": "ipython3",
   "version": "3.11.0"
  }
 },
 "nbformat": 4,
 "nbformat_minor": 2
}
