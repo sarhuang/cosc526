{
 "cells": [
  {
   "cell_type": "markdown",
   "metadata": {},
   "source": [
    "# COSC 426 / 526 - Assignment 05\n",
    "### Discussed: February 21, 2025\n",
    "### Due: Feb 28, 2025\n",
    "---\n",
    "\n",
    "In this notebook, we provide you with basic functions for completing the assignment. *Complete the assignment in this notebook. You must modify existing code and write new code to find a solution.*\n",
    "\n",
    "*Note:* Running a cell will not rerun previous cells. If you edit code in previous cells, you must rerun those cells. If you are having trouble with undefined errors and code changes not applying, we recommend using `Run All` to avoid any errors resulting from not rerunning previous cells. You can find this in the menu above: `Cell -> Run All`\n",
    "\n",
    "During Lectures 3 and 4, we learned about the **MapReduce** programming model. In this assignment, we will use the **MapReduce** programming model to solve the text parsing problems that we addressed in Assignment 4 *using the power of the MapReduce programming model*. Python provides `map` and `reduce` functions for lists that do not use parallel processing (i.e., sequential). However, they work in a similar way to the parallel implementations found in *Apache Spark*. We define three methods (i.e., `mapSequential`, `reduceSequential`, and `reduceByKeySequential`) that extend Python's `map` and `reduce` functions to act like those in *Apache Spark*. We will use *sequential* **MapReduce** to develop methods that can be used with the *parallel* **MapReduce** from *Apache Spark*.\n",
    "\n",
    "The following table lists examples of inputs and outputs to different **MapReduce** methods.  See if you can determine how the output was computed with the input:\n",
    "\n",
    "| Input                          | Function   | MapReduce Call | Output               |\n",
    "|--------------------------------|------------|----------------|----------------------|\n",
    "| [1,2,3]                        | f(x)=x+1   | Map            | [2,3,4]              |\n",
    "| [1,2,3]                        | f(x,y)=x+y | Reduce         | 6                    |\n",
    "| [('a', 1), ('b', 2), ('a', 3)] | f(x,y)=x+y | ReduceByKey    | [('a', 4), ('b', 2)] |\n",
    "\n",
    "Now let's check that these functions work without sequential implementation of `map`, `reduce`, and `reduceByKey`:"
   ]
  },
  {
   "cell_type": "code",
   "execution_count": 1,
   "metadata": {},
   "outputs": [],
   "source": [
    "import itertools\n",
    "import functools\n",
    "\n",
    "# We wrap the original python map and reduce functions to be more powerful and resilient\n",
    "def mapSequential(data, func):\n",
    "    return list(map(func, data))\n",
    "\n",
    "def reduceSequential(data, func):\n",
    "    return functools.reduce(func, data)\n",
    "\n",
    "def reduceByKeySequential(data, func):\n",
    "    reduced_data = []\n",
    "    for key, vals in itertools.groupby(sorted(data, key=lambda x: x[0]), key=lambda x: x[0]):\n",
    "        reduced_data.append((key, reduceSequential([x[1] for x in vals], func)))\n",
    "    return reduced_data"
   ]
  },
  {
   "cell_type": "code",
   "execution_count": 2,
   "metadata": {},
   "outputs": [
    {
     "name": "stdout",
     "output_type": "stream",
     "text": [
      "Output 1: [2, 3, 4]\n",
      "Output 2: 6\n",
      "Output 3: [('a', 4), ('b', 2)]\n"
     ]
    }
   ],
   "source": [
    "# Define our three inputs\n",
    "input_1 = [1,2,3]\n",
    "input_2 = [1,2,3]\n",
    "input_3 = [('a', 1), ('b', 2), ('a', 3)]\n",
    "\n",
    "# Define the two functions used\n",
    "def plusOne(x):\n",
    "    return x + 1\n",
    "\n",
    "def add(x, y):\n",
    "    return x + y\n",
    "\n",
    "# Apply our functions to our inputs\n",
    "output_1 = mapSequential(input_1, plusOne)\n",
    "output_2 = reduceSequential(input_2, add)\n",
    "output_3 = reduceByKeySequential(input_3, add)\n",
    "\n",
    "# Print out outputs\n",
    "print('Output 1:', output_1)\n",
    "print('Output 2:', output_2)\n",
    "print('Output 3:', output_3)"
   ]
  },
  {
   "cell_type": "markdown",
   "metadata": {},
   "source": [
    "### Data Pre-Processing:\n",
    "Below is code to open a text file and return a list of words containing only upper-case unicode characters.  We use this to read the text file (i.e., \"The Count of Monte Cristo\") and prepare the text for the following three problems.  The output, which you should use for solving the assignment problems, is named `words`."
   ]
  },
  {
   "cell_type": "code",
   "execution_count": 3,
   "metadata": {},
   "outputs": [],
   "source": [
    "# Import regular expressions library\n",
    "import re\n",
    "\n",
    "\n",
    "# Define a method for reading and processing text files\n",
    "def loadText(f_name):\n",
    "    # Read the text file\n",
    "    with open(f_name, 'r') as f:\n",
    "        text_lines = f.readlines()\n",
    "\n",
    "    # Concatenate the list of strings into a single string\n",
    "    text_all = ''.join(text_lines)\n",
    "\n",
    "    # Remove all non-alphabet characters with a regular expression\n",
    "    text_alpha = re.sub(r'[^a-zA-Z]', ' ', text_all)\n",
    "\n",
    "    # Convert characters to upper-case\n",
    "    text_upper = text_alpha.upper()\n",
    "    \n",
    "    # Convert the string of text into a list of words and remove empty words\n",
    "    words = [w for w in text_upper.split(' ') if w != '']\n",
    "    \n",
    "    return words\n",
    "\n",
    "\n",
    "# Load list of words\n",
    "words = loadText('book_CountOfMonteCristo.txt')"
   ]
  },
  {
   "cell_type": "markdown",
   "metadata": {},
   "source": [
    "### Problem 1:\n",
    "Analyze the text for word length frequency. We might expect short words to be more common than long words. But, are words of length 2 more common than words or length 3? Are words of length 3 more common that words of length 4? **Use the pre-processed text, `words`, from the previous cell to count the frequency of each word length in the text using the sequential MapReduce methods we defined above**.  \n",
    "\n",
    "*Complete the definition of functions in the following cell.  These functions are used in the next cell with the `map` and `reduce` calls that we have defined for you above.*"
   ]
  },
  {
   "cell_type": "code",
   "execution_count": 4,
   "metadata": {},
   "outputs": [],
   "source": [
    "# Return the length of a given word\n",
    "def wordLength(word):\n",
    "    return len(word)\n",
    "\n",
    "\n",
    "# Given a key and value, return a (key, value) pair\n",
    "def makeKeyValue(key, value=1):\n",
    "    return (key, value)\n",
    "\n",
    "\n",
    "# Count (reduce) the values for a given key (word length)\n",
    "def addValues(val1, val2):\n",
    "    return val1 + val2\n"
   ]
  },
  {
   "cell_type": "code",
   "execution_count": 5,
   "metadata": {},
   "outputs": [
    {
     "name": "stdout",
     "output_type": "stream",
     "text": [
      "Word Length : Count\n",
      "3           : 109798\n",
      "2           :  84021\n",
      "4           :  81777\n",
      "5           :  49101\n",
      "6           :  39015\n",
      "7           :  30701\n"
     ]
    }
   ],
   "source": [
    "# Map the length of each word\n",
    "word_lengths = mapSequential(words, wordLength)\n",
    "    \n",
    "# Map keyvalue pairs to help count each word length\n",
    "word_keyvalues = mapSequential(word_lengths, makeKeyValue)\n",
    "    \n",
    "# ReduceByKey to count number of words with each length\n",
    "word_length_counts = reduceByKeySequential(word_keyvalues, addValues)\n",
    "\n",
    "# Sort word length by most common\n",
    "wl_counts_sorted = sorted(word_length_counts, key=lambda x: x[1], reverse=True)\n",
    "\n",
    "# Print the 6 most common word lengths\n",
    "print('Word Length : Count')\n",
    "for word_len, count in wl_counts_sorted[:6]:\n",
    "    print('{:<11d} : {:>6d}'.format(word_len, count))"
   ]
  },
  {
   "cell_type": "markdown",
   "metadata": {},
   "source": [
    "#### Expected Output:\n",
    "```\n",
    "Word Length : Count\n",
    "3           : 109798\n",
    "2           :  84021\n",
    "4           :  81777\n",
    "5           :  49101\n",
    "6           :  39015\n",
    "7           :  30701\n",
    "```"
   ]
  },
  {
   "cell_type": "markdown",
   "metadata": {},
   "source": [
    "### Problem 2:\n",
    "For this problem, it may be beneficial to use another **MapReduce** function from *Apache Spark*: `flatMap`.  We define `flatMapSequential` below.  `flatMap` has the ability to expand the number of elements in a mapped iterable by flattening a list of lists into a single list. "
   ]
  },
  {
   "cell_type": "code",
   "execution_count": 6,
   "metadata": {},
   "outputs": [],
   "source": [
    "def flatMapSequential(data, func):\n",
    "    mapped_data = mapSequential(data, func)\n",
    "    flattened_data = [item for lst in mapped_data for item in lst]\n",
    "    return flattened_data"
   ]
  },
  {
   "cell_type": "markdown",
   "metadata": {},
   "source": [
    "To help you become familiar with `flatMap`, we have an example below which should make the difference between `map` and `flatMap` apparent."
   ]
  },
  {
   "cell_type": "code",
   "execution_count": 7,
   "metadata": {},
   "outputs": [
    {
     "name": "stdout",
     "output_type": "stream",
     "text": [
      "map: [[1, 2, 3], [4, 5, 6], [7, 8, 9]]\n",
      "flatmap: [1, 2, 3, 4, 5, 6, 7, 8, 9]\n"
     ]
    }
   ],
   "source": [
    "# Define a list of lists of integers for testing\n",
    "test = [[1,2,3], [4,5,6], [7,8,9]]\n",
    "\n",
    "# Define a function that returns the input\n",
    "def dummyFunc(x):\n",
    "    return x\n",
    "\n",
    "# Let's apply a map with our dummy function\n",
    "test_map = mapSequential(test, dummyFunc)\n",
    "print('map:', test_map)\n",
    "\n",
    "# Let's apply a flatMap with our dummy function\n",
    "test_flatmap= flatMapSequential(test, dummyFunc)\n",
    "print('flatmap:', test_flatmap)"
   ]
  },
  {
   "cell_type": "markdown",
   "metadata": {},
   "source": [
    "Do you see the different between `map` and `flatMap`?  If not, modify the code and try it with a different input or different function.  In general, the function with which you call `flatMap` should return an iterable (e.g., list or tuple)."
   ]
  },
  {
   "cell_type": "markdown",
   "metadata": {},
   "source": [
    "Getting back to the problem...  Analyze the text for letter frequency. If you’ve taken a crypto course and/or have seen substitution ciphers then you are probably aware that ’e’ is the most common letter used in the English language.  **Use the pre-processed text `words` to count the frequency of each letter in the text using the sequential MapReduce methods we defined above**. \n",
    "\n",
    "*Complete the `splitWord` function in the following cell, then fill in the code in the cell after. Much of this code will be similar to the final cell of Problem 1, including `map` and `reduce` calls using functions defined in Problem 1.  Did you write those functions general enough to be reused?*"
   ]
  },
  {
   "cell_type": "code",
   "execution_count": 8,
   "metadata": {},
   "outputs": [],
   "source": [
    "# Given a word, return an iterable of characters\n",
    "def splitWord(word):\n",
    "    return list(word)"
   ]
  },
  {
   "cell_type": "code",
   "execution_count": 9,
   "metadata": {},
   "outputs": [
    {
     "name": "stdout",
     "output_type": "stream",
     "text": [
      "Character    : Count   \n",
      "E            : 258693  \n",
      "T            : 180211  \n",
      "A            : 165306  \n",
      "O            : 156817  \n",
      "I            : 142095  \n",
      "N            : 137343  \n"
     ]
    }
   ],
   "source": [
    "# The next two calls require you to use a map function.  \n",
    "# Think about which map (i.e., flatMap or Map) is most suitable.\n",
    "\n",
    "# Map list of words to list characters.\n",
    "chars = flatMapSequential(words, splitWord) # <Define your map function here that calls splitWord()>\n",
    "\n",
    "# Map list of characters to list of key-value pairs.\n",
    "char_keyvalues = mapSequential(chars, makeKeyValue) #<Define your next map function here>\n",
    "\n",
    "# ReduceByKey to count number of occurrences of each letter.\n",
    "char_counts = reduceByKeySequential(char_keyvalues, addValues) #<Define your reduce function here>\n",
    "\n",
    "# Sort letters by most common.\n",
    "char_counts_sorted = sorted(char_counts, key=lambda x: x[1], reverse=True) #<Sort char_counts here>\n",
    "\n",
    "# Print the 6 most common characters.\n",
    "print(\"{:<12} : {:<8}\".format(\"Character\", \"Count\"))\n",
    "for char, count in char_counts_sorted[:6]:\n",
    "    print(\"{:<12} : {:<8}\".format(char, count))"
   ]
  },
  {
   "cell_type": "markdown",
   "metadata": {},
   "source": [
    "#### Expected Output:\n",
    "```\n",
    "Character : Count\n",
    "E         : 258693\n",
    "T         : 180211\n",
    "A         : 165306\n",
    "O         : 156817\n",
    "I         : 142095\n",
    "N         : 137343\n",
    "```"
   ]
  },
  {
   "cell_type": "markdown",
   "metadata": {},
   "source": [
    "### Problem 3:\n",
    "For this problem, it may be beneficial to use the `numpy` package.  Specifically, the element-wise addition of numpy array may come in handy.  Below is an example of what happens when you add two numpy arrays."
   ]
  },
  {
   "cell_type": "code",
   "execution_count": 10,
   "metadata": {},
   "outputs": [
    {
     "name": "stdout",
     "output_type": "stream",
     "text": [
      "  a: [1 1 0]\n",
      "  b: [0 1 0]\n",
      "a+b: [1 2 0]\n"
     ]
    }
   ],
   "source": [
    "# Let's see a useful property of numpy arrays\n",
    "# HINT: ref [1]\n",
    "import numpy as np\n",
    "\n",
    "# Define numpy arrays\n",
    "a = np.array([1,1,0])\n",
    "b = np.array([0,1,0])\n",
    "\n",
    "# Print each array and the sum of each array\n",
    "print('  a:', a)\n",
    "print('  b:', b)\n",
    "print('a+b:', a+b)"
   ]
  },
  {
   "cell_type": "markdown",
   "metadata": {},
   "source": [
    "**References:**\n",
    "- [1: numpy quickstart](https://docs.scipy.org/doc/numpy/user/quickstart.html)"
   ]
  },
  {
   "cell_type": "markdown",
   "metadata": {},
   "source": [
    "If we really wanted to crack a substitution cipher (or win on ”Wheel of Fortune”) then we should be aware that, although ’e’ is the most common letter used in English, it may not be the most common first letter in a word. **Count the positional frequencies of each letter using the sequential MapReduce methods we defined above. Specifically, count the number of times each letter appears as the first letter in a word, as the last letter in a word, and as an interior letter in a word (i.e. a letter that is neither first nor last)**.  \n",
    "\n",
    "*Complete the `lettersPosition` function below, then fill in the code in the cell after.  Your functions are used with `map` and `reduce` calls that we have defined.  Note that we use a function that has also been used in Problems 1 and 2. Using numpy arrays in the following function definition could make this assignment easier.  However, you are not required to use numpy.  Feel free to change code by adding more maps or reduces in order to get a correct answer.*"
   ]
  },
  {
   "cell_type": "code",
   "execution_count": 11,
   "metadata": {},
   "outputs": [],
   "source": [
    "# Define a method to return position of each character\n",
    "# You may want to reference your solution from assignment 3\n",
    "# Remember how the reduceByKey will use the returned values when writing a solution\n",
    "def lettersPosition(word):\n",
    "    #Each char format: ('A', [1, 0, 0])\n",
    "    positions = [\n",
    "        (char, np.array([int(i == 0), int(0 < i < len(word)-1), int(i == len(word)-1 and i != 0)]))\n",
    "        for i, char in enumerate(word)\n",
    "    ]\n",
    "    return positions"
   ]
  },
  {
   "cell_type": "code",
   "execution_count": 12,
   "metadata": {
    "scrolled": true
   },
   "outputs": [
    {
     "name": "stdout",
     "output_type": "stream",
     "text": [
      "Character : First | Interior |  Last\n",
      "A         : 51644 |   111686 |  1976\n",
      "B         : 18866 |     8516 |   541\n",
      "C         : 19577 |    32130 |   725\n",
      "D         : 17289 |    18613 | 58075\n",
      "E         : 10178 |   153205 | 95310\n",
      "F         : 17724 |    10618 | 16988\n"
     ]
    }
   ],
   "source": [
    "# Map the location of each character\n",
    "char_positions = flatMapSequential(words, lettersPosition) #<Define your map function here that calls letterPosition()>\n",
    "\n",
    "# ReduceByKey the letter positions for each character\n",
    "char_position_counts = reduceByKeySequential(char_positions, addValues) #<Define your reduce function here>\n",
    "\n",
    "# Sort character position data alphabetically\n",
    "cp_sorted = sorted(char_position_counts, key=lambda x: x[0]) #<Sort char_position_counts here>\n",
    "\n",
    "# Print the position frequency of the first letters in the alphabet\n",
    "print('Character : First | Interior |  Last')\n",
    "for char, char_position in cp_sorted[:6]:\n",
    "    first, interior, last = char_position\n",
    "    print('{:<9} : {:5d} | {:>8d} | {:>5d}'.format(char, first, interior, last))"
   ]
  },
  {
   "cell_type": "markdown",
   "metadata": {},
   "source": [
    "#### Expected Output:\n",
    "```\n",
    "Character : First | Interior |  Last\n",
    "A         : 51644 |   111686 |  1976\n",
    "B         : 18866 |     8516 |   541\n",
    "C         : 19577 |    32130 |   725\n",
    "D         : 17289 |    18613 | 58075\n",
    "E         : 10178 |   153205 | 95310\n",
    "F         : 17724 |    10618 | 16988\n",
    "```"
   ]
  },
  {
   "cell_type": "markdown",
   "metadata": {},
   "source": [
    "### Problem 4:\n",
    "Repeat Problem 2 with a new text, one you expect to have different letter distribution than The Count of Monty Cristo. You could use something written centuries earlier (e.g., Shakespeare or an early English translation of the Bible), in a distinctive style or genre (e.g., poetry or a contract), or even in a different language."
   ]
  },
  {
   "cell_type": "code",
   "execution_count": 13,
   "metadata": {},
   "outputs": [
    {
     "name": "stdout",
     "output_type": "stream",
     "text": [
      "Character    : Count   \n",
      "E            : 21988   \n",
      "T            : 15665   \n",
      "O            : 14147   \n",
      "A            : 12662   \n",
      "S            : 12164   \n",
      "N            : 11437   \n"
     ]
    }
   ],
   "source": [
    "# Place the .txt file in the folder with this Jupyter Notebook, then load it to a list of words.\n",
    "# If your text is in a language with different characters than English, \n",
    "#  you will have to create a modified version of the function loadText().\n",
    "\n",
    "play_words = loadText('plays_of_sophocles.txt')\n",
    "\n",
    "# Compute char_counts_sorted as in Problem 2.\n",
    "chars = flatMapSequential(play_words, splitWord) # <Define your map function here that calls splitWord()>\n",
    "char_keyvalues = mapSequential(chars, makeKeyValue) #<Define your next map function here>\n",
    "char_counts = reduceByKeySequential(char_keyvalues, addValues) #<Define your reduce function here>\n",
    "char_counts_sorted = sorted(char_counts, key=lambda x: x[1], reverse=True) #<Sort char_counts here>\n",
    "\n",
    "# Print the most frequent characters to compare with the results from Problem 2.\n",
    "print(\"{:<12} : {:<8}\".format(\"Character\", \"Count\"))\n",
    "for char, count in char_counts_sorted[:6]:\n",
    "    print(\"{:<12} : {:<8}\".format(char, count))"
   ]
  },
  {
   "cell_type": "code",
   "execution_count": 14,
   "metadata": {},
   "outputs": [
    {
     "data": {
      "image/png": "[encoded data removed]",
      "text/plain": [
       "<Figure size 640x480 with 1 Axes>"
      ]
     },
     "metadata": {},
     "output_type": "display_data"
    }
   ],
   "source": [
    "from matplotlib import pyplot as plt\n",
    "\n",
    "#Plot histogram for frequent characters in Oedipus plays (text 2)\n",
    "X_vals, Y_vals = zip(*char_counts_sorted)\n",
    "plt.bar(X_vals, Y_vals, 0.75)\n",
    "plt.xlim((.125, len(X_vals)))\n",
    "plt.xticks(range(0,len(X_vals)+1,1))\n",
    "plt.xlabel('Letter')\n",
    "plt.ylabel('Letter Frequency')\n",
    "plt.title('Letter Frequency in Plays of Sophocles: Oedipus the King; Oedipus at Colonus; Antigone')\n",
    "plt.show()"
   ]
  },
  {
   "cell_type": "code",
   "execution_count": 15,
   "metadata": {},
   "outputs": [
    {
     "data": {
      "image/png": "[encoded data removed]",
      "text/plain": [
       "<Figure size 640x480 with 1 Axes>"
      ]
     },
     "metadata": {},
     "output_type": "display_data"
    }
   ],
   "source": [
    "#Plot histogram for frequent characters in The Count of Monte Cristo\n",
    "chars = flatMapSequential(words, splitWord) # <Define your map function here that calls splitWord()>\n",
    "char_keyvalues = mapSequential(chars, makeKeyValue) #<Define your next map function here>\n",
    "char_counts = reduceByKeySequential(char_keyvalues, addValues) #<Define your reduce function here>\n",
    "char_counts_sorted = sorted(char_counts, key=lambda x: x[1], reverse=True) #<Sort char_counts here>\n",
    "\n",
    "# Plot the histogram for problem 2\n",
    "X_vals, Y_vals = zip(*char_counts_sorted)\n",
    "plt.bar(X_vals, Y_vals, 0.75)\n",
    "plt.xlim((.125, len(X_vals)))\n",
    "plt.xticks(range(0,len(X_vals)+1,1))\n",
    "plt.xlabel('Letter')\n",
    "plt.ylabel('Letter Frequency')\n",
    "plt.title('Letter Frequency in The Count of Monte Cristo')\n",
    "plt.show()"
   ]
  },
  {
   "cell_type": "markdown",
   "metadata": {},
   "source": [
    "### Things to Consider:\n",
    "In this assignment you wrote functions that can be used with the **MapReduce** programming model.  The `map` and `reduce` functions were sequential, but they work in the same way as the parallel versions.  This means that the functions you wrote in this assignment can be used in the next assignment where we use **MapReduce** in parallel with *Apache Spark*!"
   ]
  },
  {
   "cell_type": "markdown",
   "metadata": {},
   "source": [
    "## Problem 5. Write the comprehensive README files for the assignment\n",
    "\n",
    "**Note:** These directions are for a README file for your assignments. An more extensive README file should be used for your project. \n",
    "\n",
    "***Write the comprehensive README files for this assignment***\n",
    "\n",
    "A comprehensive README file on GitHub is the primary information source for anyone exploring your repository. It is essential for clearly conveying your assignment's purpose, setup, and usage.\n",
    "\n",
    "Key elements of a comprehensive README for an assignment include:\n",
    "\n",
    "Assignment title: This should clearly state the name of your project.\n",
    "\n",
    "Assignment description: Provide a concise overview of what the project entails. This section should explain the project's usefulness and the problems it addresses.\n",
    "\n",
    "Installation instructions: Offer detailed steps for setting up the project. This includes any prerequisites, dependencies, and a step-by-step guide to operationalizing the project.\n",
    "\n",
    "Use: Give clear instructions on how to use the project. Enhance this section with practical examples, including code snippets, screenshots, or videos.\n",
    "\n",
    "Contact information: Detail how to contact you. This could be through email.\n",
    "\n",
    "Acknowledgments: Credit any individuals, organizations, or other entities contributing significantly to the assignment.\n",
    "\n",
    "**Add the README file to the GitHub repository with the solution of this assigment.**"
   ]
  },
  {
   "cell_type": "markdown",
   "metadata": {},
   "source": [
    "### Live Chat:\u000b",
    "2020 Breakthrough Prize Winner Shep Doeleman—How EHT Imaged a Black Hole\n",
    "\n",
    "Watch the insightful video featuring Shep Doeleman, the 2020 Breakthrough Prize Winner, as he discusses how the Event Horizon Telescope (EHT) captured the first-ever image of a black hole. You can find the video at this link: https://www.youtube.com/watch?v=KHa0X4y3ulw\n",
    "\n",
    "After watching the video, answer the following questions:\n",
    "\n",
    "* What is the connection between the EHT project and data sciences?\n",
    "* What obstacles did the scientists encounter while reconstructing the first image of a black hole? Were they restricted to using a single telescope or gathering data from multiple locations? Why? How did they transfer the data from the telescopes to their institutions? Why? \n",
    "* How did the team overcome these challenges?\n",
    "\n",
    "Share your insights and reflections after watching the video!"
   ]
  },
  {
   "cell_type": "markdown",
   "metadata": {},
   "source": [
    "- **What is the connection between the EHT project and data sciences?**\n",
    "\n",
    "Data collection and visualization algorithms were utilized to compile the black hole image.\n",
    "\n",
    "\n",
    "- **What obstacles did the scientists encounter while reconstructing the first image of a black hole? Were they restricted to using a single telescope or gathering data from multiple locations? Why? How did they transfer the data from the telescopes to their institutions? Why?**\n",
    "\n",
    "A big obstacle was the scientists needed a telescope as big as the size of the Earth to peer into galaxies and bring a black hole into focus. The solution was to use existing dishes around the globe and link them into a network so they can cover the equivalent of an Earth-sized telescope. Since the data was in petabytes, they found the fastest way to transfer the data to a central facility was store them on hard disks and fly them on a Boeing 747 plane to the facility. The speaker mentioned that it would take 25 years to get data from the South Pole station to the facility, so physically flying them is much faster. With the separate hard disks from other stations, they can play them back, align them in time, and combine into one dataset. When they compile the final black hole image, they learned that adding more stations made the ring clearer. \n",
    "\n",
    "- **How did the team overcome these challenges?**\n",
    "\n",
    "Another challenge was combating human bias. The team split into 4 smaller teams (Americas, Global, East Asia, and Cross Atlantic) and spent 6-7 weeks of isolation from each other using different approaches to compile the black hole image. After the period, they came together for an imaging comparison workshop and found that they all had the same ring structure even with 3 different algorithms. To fine-tune the algorithms, they created fake datasets and added known errors from the telescope system to ensure they are seeing a real shadow."
   ]
  },
  {
   "cell_type": "markdown",
   "metadata": {},
   "source": [
    "### Project: \n",
    "\n",
    "Select a Project Example: Choose one project example from the Lecture 5 folder. Read the extended abstract associated with the selected project.\n",
    "\n",
    "Analyze the Posters: Examine the posters and mark the following pieces of information:\n",
    "* Type of data\n",
    "* Question(s) answered\n",
    "* Method(s) used\n",
    "* Key outcomes and results\n",
    "\n",
    "Analyze the Sections: Identify the parts in the abstracts presenting:\n",
    "* Problem definition\n",
    "* Methodology to resolve the problem\n",
    "* Outcome/results\n",
    "\n",
    "Report Writing: Write a short report (maximum 600 words) answering the following questions:\n",
    "* What are the common components of both the abstract and poster?\n",
    "* What are the key differences between the abstract and poster?\n",
    "* What is the role of pictures in the abstract and poster? Compare and contrast.\n",
    "* What is the role of text in abstracts and posters? Compare and contrast.\n",
    "\n",
    "Submission Guidelines:\n",
    "* Submit your analysis report as a written text in this Notebook.\n",
    "* Ensure that your report is clear, concise, and well-organized.\n",
    "* Include appropriate headings and subheadings to structure your analysis.\n",
    "* Provide references to the selected project example, abstract, and poster."
   ]
  },
  {
   "cell_type": "markdown",
   "metadata": {},
   "source": [
    "# Analyzing Abstract and Poster of \"Leveraging Spark and Docker for Scalable, Reproducible Analysis of Railroad Defects\"\n",
    "\n",
    "### Similarities of Abstract & Poster\n",
    "The commonalities of the abstract and poster are that they cover the problem definition, methodology, results, and conclusion. They both cover the motivation of the problem and general information about the data sets. The workflow section of the poster and the methodology section of the paper have overlapping facts. While not the same, the block diagrams showcasing the workflow are similar. The results, like the classifier achieving an accuracy of 89.90% [1], are the same and are illustrated with identical figures. Lastly, the poster and abstract mention the same conclusions.\n",
    "\n",
    "### Differences of Abstract & Poster\n",
    "The key difference is that the poster omits more details but is the finalized, presentation-ready version of the research. While the poster covers the basic motivations of the problem definition, it cuts out the more detailed explanation of why predicting railroad defects is significant to preventing railway accidents [1]. The intro of the extended abstract fleshes out the need for this research. Additionally, the poster specifies actual data point numbers like 26,432 20-dimensional data points in the rail defects data set [2] versus where they originated from or a more detailed explanation of what the data contains. Naturally, the abstract goes more in-depth on how the classifier was trained, mentioning that the data was split into 70% training and 30% testing [1]. The abstract also includes details about future work which did not make it to the final poster. \n",
    "\n",
    "While the poster excludes extra information, it includes updated, more informative figures than the abstract. The poster's workflow diagram is not only aesthetically better but also more detailed since the abstract has the space to elaborate on the figure. In fact, they must have only had the DockerHub link ready to share once they created the poster because there is no mention of it in the abstract [2]. The poster has more confusion matrices and charts to better illustrate the results. Surprisingly, the Chi-Squared Similarity equation is also slightly different than the one in the abstract.\n",
    "\n",
    "### Roles of Abstract & Poster\n",
    "These differences exist because the abstract and poster serve separate roles. The extended abstract needs to talk about all the gritty details of the research. The text can be as lengthy as it wants, within reason and submission guidelines, because it has the space to do so. A typical paper should have enough written so the reader has an idea of how to reproduce the results. Pictures and figures in the abstract should further illustrate points in the paper or visualize results. There are not as many of these in a paper because text is the main focus, and the column structure of the paper makes it harder to include lots of images without going over the page limit. \n",
    "\n",
    "In contrast, a poster is the summarization of the paper and should highlight important information in a quick glance. The poster has more images than text because images are more eye-catching and can visually show more results than listing them in text. Plus, the viewers are more focused on listening to you verbalize the research than reading the poster. Text and images serve the same the purpose in both the abstract and poster, but the quantity and quality of them differ depending on deliverance of the research. \n",
    "\n",
    "### References\n",
    "[1]  D. Chapp and S. Kasturi. Leveraging Spark and Docker for scalable, reproducible analysis of railroad defects.\n",
    "\n",
    "[2]  D. Chapp and S. Kasturi. Poster for Leveraging Spark and Docker for scalable, reproducible analysis of railroad defects."
   ]
  },
  {
   "cell_type": "code",
   "execution_count": null,
   "metadata": {},
   "outputs": [],
   "source": [
    "#Just to divde the sections"
   ]
  },
  {
   "cell_type": "markdown",
   "metadata": {},
   "source": [
    "### Reflect on your experience with the lecture and assignment:\n",
    "\n",
    "Q1: Resource usage: What external resources (websites, books, etc.) did you consult while working on the problems? Please list them.\n",
    "\n",
    "Q2: Debugging and error resolution: How often did you encounter and resolve errors or bugs during the assignment? Could you describe each occurrence in detail?\n",
    "\n",
    "Q3: Gained knowledge: What lessons or insights you learned from solving these problems? How do you apply these insights in future coding projects or problem-solving scenarios?\n",
    "\n",
    "Q4: Collaborative experiences: If you consulted with others, explain how this collaboration influenced your problem-solving approach. If you consulted with others, can you give an example of how you helped a peer or how a peer's advice helped you?\n",
    "\n",
    "**Important Note:** Your reflections and experiences shared in response to these questions are as crucial as the solutions for the coding problems. Responses that are too brief or limited to a few words will not suffice and may  affect the pass grade for your assignment."
   ]
  },
  {
   "cell_type": "markdown",
   "metadata": {},
   "source": [
    "1. The only external resource I used was Project Gutenburg to find a second text to complete Problem 4. I used *Plays of Sophocles: Oedipus the King; Oedipus at Colonus; Antigone* by Sophocles (https://www.gutenberg.org/ebooks/31).\n",
    "\n",
    "2. The only bug I had was implementing the lettersPosition() function. I thought I could get away with reusing my code from Assignment 4, but it turned out to be very slow when running. The instructions suggest using numpy, so it took a bit of thinking to condense my code to something faster and more efficient.\n",
    "\n",
    "3. I really did not know you could pass functions as parameters for other functions. Also, I didn't have a lot of experience using Python's map and reduce functions. Completing this assignment makes me feel more comfortable using MapReduce and is good preparation for the next assignment when we use Apache Spark. \n",
    "\n",
    "4. I did not consult with others, but I would imagine I would double check with others how all the functions work together. I wasn't sure at first if the little functions like addValue() were that simple. "
   ]
  },
  {
   "cell_type": "code",
   "execution_count": null,
   "metadata": {},
   "outputs": [],
   "source": []
  }
 ],
 "metadata": {
  "kernelspec": {
   "display_name": "Python 3 (ipykernel)",
   "language": "python",
   "name": "python3"
  },
  "language_info": {
   "codemirror_mode": {
    "name": "ipython",
    "version": 3
   },
   "file_extension": ".py",
   "mimetype": "text/x-python",
   "name": "python",
   "nbconvert_exporter": "python",
   "pygments_lexer": "ipython3",
   "version": "3.9.13"
  }
 },
 "nbformat": 4,
 "nbformat_minor": 4
}
