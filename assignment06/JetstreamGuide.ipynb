{
 "cells": [
  {
   "cell_type": "markdown",
   "metadata": {},
   "source": [
    "# Jetstream Instructions \n",
    "## Setting up a virtual machine and opening Jupyter"
   ]
  },
  {
   "cell_type": "markdown",
   "metadata": {},
   "source": [
    "### Let's make an ACCESS account!\n",
    "\n",
    "* Go to https://allocations.access-ci.org/. \n",
    "* Click the \"Create Account\" button.\n",
    "* Select the “Register with an existing identity” and select “University of Tennessee” and follow the authentication steps.\n",
    "* After you have created an account, submit your ACCESS username to https://forms.gle/TzFRZaBCrbhymGoA8 \n",
    "* You will be notified once you've been added; _you'll not be able to proceed with these instructions until you have been added._"
   ]
  },
  {
   "cell_type": "markdown",
   "metadata": {},
   "source": [
    "### Let's log in to Jetstream!  \n",
    "\n",
    "* Go to https://jetstream-cloud.org/ \n",
    "* Click \"Jetstream2 Login\" in the upper-right corner.\n",
    "* Select “Add allocation” and then “Add ACCESS Account” \n",
    "* Enter ACCESS credentials by selecting the “University of Tennessee” provided and click the \"Log on\" button.\n",
    "* After you are added to the allocation, you will see “Allocation TRA200041” on which you will be able to create all the different compute and storage resources\n"
   ]
  },
  {
   "cell_type": "markdown",
   "metadata": {},
   "source": [
    "### Let's create a Jetstream virtual machine (VM)!  \n",
    "\n",
    "At the \"Home\" page, you are able to see Educational allocation for the class “Allocation TRA200041”\n",
    "![home_allocations](images/Jetstream2_Home_Allocations.png)\n",
    "\n",
    "* Now click the pink \"Create\" button, and select \"Instance\" from the drop-down menu that appears.  \n",
    "\n",
    "![create_instance](images/Create_Instance.png)  \n",
    "\n",
    "* Select to create an instance \"By Image\" and search for \"Ubuntu 22-04 with Spark-image\". Clink on \"Create Instance\" \n",
    "\n",
    "![search_instance](images/Create_Instance_by_Image.png)\n",
    "\n",
    "* Type a name for your instance. Instance name must only include alphanumeric characters, hyphen, underscore and space. We recommend a name like \"UTK_BigData_2023_[Last-name]\"\n",
    " \n",
    "**IMPORTANT:** Do not launch more than one virtual machine with this Allocation Source; we only have enough VMs for each person in the course to have one!  \n",
    "* Under \"Flavor\", make sure to select **m3.medium** (CPU: 8, Mem: 30 GB, Disk: 60 GB). \n",
    "* For the \"Enable webdesktop?\" click on \"Yes\"\n",
    "* If you want to access your virtual machine through the terminal, you need to add a SSH public key. Under \"Choose an SSH public key\", click on \"Upload a new SSH public key\" and add a name for your SSH public key. Copy the key from `$HOME/.ssh/id_rsa.pub` and paste it under \"SSH public key value\".\n",
    "_To generate your SSH public key on Linux, follow the instructions [here](https://www.cyberciti.biz/faq/how-to-set-up-ssh-keys-on-linux-unix/), in summary you would need to run this command on your terminal `ssh-keygen -t rsa`. You can also generate an SSH public key on Windows. Follow instructions [here](https://phoenixnap.com/kb/generate-ssh-key-windows-10)._\n",
    "![ssh_key](images/Add_SSH_Public_Key.png)\n",
    "\n",
    "* Leave other sections with the default option and click on \"Create\". \n",
    "![instance_definition](images/Instance_Definition.png)"
   ]
  },
  {
   "cell_type": "markdown",
   "metadata": {},
   "source": [
    "### Let's access your virtual machine (VM)!  \n",
    "\n",
    "You should be in the page for the specific allocation.  \n",
    "* Look for your VM listed under \"Instances\".  \n",
    "* Click on the name of the VM you created.\n",
    "\n",
    "![list-instances](images/Select_Instance.png)\n",
    "\n",
    "* Wait until your instance has a green dot next to it, meaning that its status is \"READY\" to run. \n",
    "\n",
    "**IMPORTANT:** If the status is other than \"Ready\" DO NOT operate the VM. \n",
    "\n",
    "* Once the status is \"Ready\", there are two ways of accessing the VM. \n",
    "\n",
    "1. The easiest method is through the \"Web Shell\". **Use Google Chrome as your web browser since it facilitates the copying and pasting into the Web Shell.** \n",
    "![access-instance](images/Access_Instance.png)\n",
    "\n",
    "2. You can also access your VM by SSHing into it. To do this, copy the text next to \"Native SSH\" go to your terminal and type `ssh exouser@XXX.XXX.XXX.XX`\n",
    "\n",
    "* Either way will take you inside the VM. \n",
    "![terminal](images/Terminal.png)"
   ]
  },
  {
   "cell_type": "markdown",
   "metadata": {},
   "source": [
    "### Let's clone the class repository to your VM!  \n",
    "\n",
    "You should be in the white-text, black-background command-line interface (CLI).\n",
    "\n",
    "* (If you want the repo somewhere other than your home directory, `cd` to the desired location.)  \n",
    "* Type `git clone  https://github.com/CISC879-BigData/UTK-COSC426and526-S23.git` and press ENTER  \n",
    "* You should be prompted to enter your GitHub credentials.  \n",
    "![clone-repository](images/Clone_Class_Repository.png)"
   ]
  },
  {
   "cell_type": "markdown",
   "metadata": {},
   "source": [
    "### Let's run Jupyter on your VM!  \n",
    "\n",
    "[This](https://docs.jetstream-cloud.org/general/jupyter/) is the Jetstream2 documentation to run Jupyter. \n",
    "\n",
    "You should be in the white-text, black-background command-line interface.  \n",
    "\n",
    "* Type `module load anaconda` and press ENTER.  \n",
    "* Type `jupyter-ip.sh` and press ENTER.\n",
    "\n",
    "![jupyter-jetstream](images/Jupyter_Jetstream.png)\n",
    "\n",
    " \n",
    "* Copy the link (`http://`) and paste in a new tab. Press CTRL+C twice to cancel. \n",
    "![jupyter](images/Jupyter_Notebook.png)"
   ]
  },
  {
   "cell_type": "markdown",
   "metadata": {},
   "source": [
    "### Let's close out everything!\n",
    "  \n",
    "If you are in the Jupyter notebook menu:  \n",
    " * Click the \"Logout\" button in the upper-right corner;  \n",
    " * Close the tab.  \n",
    "\n",
    "If you are in the CLI:  \n",
    " * If Jupyter is running, press CTRL+C twice in succession;  \n",
    " * If nothing is running, type `exit` and press ENTER;  \n",
    " \n",
    "![exit-vm](images/Exit_VM.png)\n",
    " \n",
    " * When a \"DISCONNECTED\" notice appears, click \"Logout\";  \n",
    " * Close the tab.  \n",
    "\n",
    "If you are in your VM window in Jetstream:  \n",
    " * Click \"Shelve\" under \"Actions\" on the right; \n",
    " * In the \"Shelve Instance\" box that pops up, click the pink \"YES, SHELVE THIS INSTANCE\" button;   \n",
    " \n",
    "![shelve-instance](images/Shelve_Instance.png)\n",
    " \n",
    " * The \"Status\" should have a yellow circle and the \"Activity\" should say \"Shelving\";   \n",
    " * You may now log out, but if you wait a while the \"Status\" should become \"Shelved\" with a grey circle.  \n",
    "\n",
    "**IMPORTANT: You MUST shelve your VM when you are not using it, or else you will use up our limited compute-time resources.** (Shelved units are deleted after 6 months.)"
   ]
  },
  {
   "cell_type": "code",
   "execution_count": null,
   "metadata": {},
   "outputs": [],
   "source": []
  }
 ],
 "metadata": {
  "kernelspec": {
   "display_name": "Python 3 (ipykernel)",
   "language": "python",
   "name": "python3"
  },
  "language_info": {
   "codemirror_mode": {
    "name": "ipython",
    "version": 3
   },
   "file_extension": ".py",
   "mimetype": "text/x-python",
   "name": "python",
   "nbconvert_exporter": "python",
   "pygments_lexer": "ipython3",
   "version": "3.11.7"
  }
 },
 "nbformat": 4,
 "nbformat_minor": 4
}
